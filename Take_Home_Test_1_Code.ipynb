{
  "nbformat": 4,
  "nbformat_minor": 0,
  "metadata": {
    "colab": {
      "provenance": [],
      "include_colab_link": true
    },
    "kernelspec": {
      "name": "python3",
      "display_name": "Python 3"
    }
  },
  "cells": [
    {
      "cell_type": "markdown",
      "metadata": {
        "id": "view-in-github",
        "colab_type": "text"
      },
      "source": [
        "<a href=\"https://colab.research.google.com/github/jacobwolter2000/Math242/blob/main/Take_Home_Test_1_Code.ipynb\" target=\"_parent\"><img src=\"https://colab.research.google.com/assets/colab-badge.svg\" alt=\"Open In Colab\"/></a>"
      ]
    },
    {
      "cell_type": "markdown",
      "metadata": {
        "id": "dYZCqThDj-mJ"
      },
      "source": [
        "#Initialize the preliminary code:\n"
      ]
    },
    {
      "cell_type": "code",
      "metadata": {
        "id": "OCPrJ_6ij5LN"
      },
      "source": [
        "import numpy as np\n",
        "from numpy import c_\n",
        "\n",
        "ll = \"loaded\""
      ],
      "execution_count": 1,
      "outputs": []
    },
    {
      "cell_type": "code",
      "source": [
        "# create the matrix M:\n",
        "M = np.matrix([[1/2, 1/2, 1/5],\n",
        "               [1/4, 0, 2/5],\n",
        "               [1/4, 1/2, 2/5]])\n",
        "M"
      ],
      "metadata": {
        "colab": {
          "base_uri": "https://localhost:8080/"
        },
        "id": "YC6aN_VY_CRW",
        "outputId": "3da82df9-636a-4581-f56f-a6b1bb624905"
      },
      "execution_count": 2,
      "outputs": [
        {
          "output_type": "execute_result",
          "data": {
            "text/plain": [
              "matrix([[0.5 , 0.5 , 0.2 ],\n",
              "        [0.25, 0.  , 0.4 ],\n",
              "        [0.25, 0.5 , 0.4 ]])"
            ]
          },
          "metadata": {},
          "execution_count": 2
        }
      ]
    },
    {
      "cell_type": "code",
      "source": [
        "x0 = np.matrix([[100], [100], [100]])\n",
        "x0"
      ],
      "metadata": {
        "colab": {
          "base_uri": "https://localhost:8080/"
        },
        "id": "2gotnR5X_dQN",
        "outputId": "c3d1027b-09b3-4b9c-95c7-fcc68353ca9e"
      },
      "execution_count": 9,
      "outputs": [
        {
          "output_type": "execute_result",
          "data": {
            "text/plain": [
              "matrix([[100],\n",
              "        [100],\n",
              "        [100]])"
            ]
          },
          "metadata": {},
          "execution_count": 9
        }
      ]
    },
    {
      "cell_type": "code",
      "source": [
        "xb=M**-1*x0\n",
        "xb"
      ],
      "metadata": {
        "id": "nEomB4oUH0Ww",
        "outputId": "3d5252e9-f731-4bf2-c221-9e17a1e30e63",
        "colab": {
          "base_uri": "https://localhost:8080/"
        }
      },
      "execution_count": 10,
      "outputs": [
        {
          "output_type": "execute_result",
          "data": {
            "text/plain": [
              "matrix([[133.33333333],\n",
              "        [  0.        ],\n",
              "        [166.66666667]])"
            ]
          },
          "metadata": {},
          "execution_count": 10
        }
      ]
    },
    {
      "cell_type": "code",
      "source": [
        "np.linalg.inv(M) * x0"
      ],
      "metadata": {
        "id": "uwIN3zNbIJ7g",
        "outputId": "6e9b222c-e24a-4ab5-ece9-479e95e22863",
        "colab": {
          "base_uri": "https://localhost:8080/"
        }
      },
      "execution_count": 12,
      "outputs": [
        {
          "output_type": "execute_result",
          "data": {
            "text/plain": [
              "matrix([[133.33333333],\n",
              "        [  0.        ],\n",
              "        [166.66666667]])"
            ]
          },
          "metadata": {},
          "execution_count": 12
        }
      ]
    },
    {
      "cell_type": "code",
      "source": [
        "x1=M*x0\n",
        "x1"
      ],
      "metadata": {
        "colab": {
          "base_uri": "https://localhost:8080/"
        },
        "id": "bnAHNDH9_ttX",
        "outputId": "967a22fc-2faa-4c95-8e4a-e07556058d10"
      },
      "execution_count": 4,
      "outputs": [
        {
          "output_type": "execute_result",
          "data": {
            "text/plain": [
              "matrix([[150.],\n",
              "        [ 25.],\n",
              "        [125.]])"
            ]
          },
          "metadata": {},
          "execution_count": 4
        }
      ]
    },
    {
      "cell_type": "code",
      "source": [
        "x10min=M**2*x0\n",
        "x10min"
      ],
      "metadata": {
        "colab": {
          "base_uri": "https://localhost:8080/"
        },
        "id": "GJ1OB_4oCPMV",
        "outputId": "81db4127-ff83-4195-ce63-c5b93eb35230"
      },
      "execution_count": 5,
      "outputs": [
        {
          "output_type": "execute_result",
          "data": {
            "text/plain": [
              "matrix([[112.5],\n",
              "        [ 87.5],\n",
              "        [100. ]])"
            ]
          },
          "metadata": {},
          "execution_count": 5
        }
      ]
    },
    {
      "cell_type": "code",
      "source": [
        "x20min=M**4*x0\n",
        "x20min"
      ],
      "metadata": {
        "colab": {
          "base_uri": "https://localhost:8080/"
        },
        "id": "lkoGVSMyCV91",
        "outputId": "edc018c8-755b-4411-d0c9-dad320f86621"
      },
      "execution_count": 6,
      "outputs": [
        {
          "output_type": "execute_result",
          "data": {
            "text/plain": [
              "matrix([[116.4375],\n",
              "        [ 74.75  ],\n",
              "        [108.8125]])"
            ]
          },
          "metadata": {},
          "execution_count": 6
        }
      ]
    },
    {
      "cell_type": "code",
      "source": [
        "x4hr=M**48*x0\n",
        "x4hr"
      ],
      "metadata": {
        "colab": {
          "base_uri": "https://localhost:8080/"
        },
        "id": "Lcyn11XFCaAB",
        "outputId": "6880e8e4-2e8b-4154-928c-fe15de30526a"
      },
      "execution_count": 7,
      "outputs": [
        {
          "output_type": "execute_result",
          "data": {
            "text/plain": [
              "matrix([[117.07317073],\n",
              "        [ 73.17073171],\n",
              "        [109.75609756]])"
            ]
          },
          "metadata": {},
          "execution_count": 7
        }
      ]
    }
  ]
}