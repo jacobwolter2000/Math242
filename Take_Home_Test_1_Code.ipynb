{
  "nbformat": 4,
  "nbformat_minor": 0,
  "metadata": {
    "colab": {
      "provenance": [],
      "include_colab_link": true
    },
    "kernelspec": {
      "name": "python3",
      "display_name": "Python 3"
    }
  },
  "cells": [
    {
      "cell_type": "markdown",
      "metadata": {
        "id": "view-in-github",
        "colab_type": "text"
      },
      "source": [
        "<a href=\"https://colab.research.google.com/github/jacobwolter2000/Math242/blob/main/Take_Home_Test_1_Code.ipynb\" target=\"_parent\"><img src=\"https://colab.research.google.com/assets/colab-badge.svg\" alt=\"Open In Colab\"/></a>"
      ]
    },
    {
      "cell_type": "markdown",
      "metadata": {
        "id": "dYZCqThDj-mJ"
      },
      "source": [
        "#Initialize the preliminary code:\n"
      ]
    },
    {
      "cell_type": "code",
      "metadata": {
        "id": "OCPrJ_6ij5LN"
      },
      "source": [
        "import numpy as np\n",
        "from numpy import c_\n",
        "\n",
        "ll = \"loaded\""
      ],
      "execution_count": 1,
      "outputs": []
    },
    {
      "cell_type": "code",
      "source": [
        "# create the matrix M:\n",
        "M = np.matrix([[1/2, 1/2, 1/5],\n",
        "               [1/4, 0, 2/5],\n",
        "               [1/2, 1/2, 2/5]])\n",
        "M"
      ],
      "metadata": {
        "colab": {
          "base_uri": "https://localhost:8080/"
        },
        "id": "YC6aN_VY_CRW",
        "outputId": "18b62408-0469-4483-a544-77389219073f"
      },
      "execution_count": 3,
      "outputs": [
        {
          "output_type": "execute_result",
          "data": {
            "text/plain": [
              "matrix([[0.5 , 0.5 , 0.2 ],\n",
              "        [0.25, 0.  , 0.4 ],\n",
              "        [0.5 , 0.5 , 0.4 ]])"
            ]
          },
          "metadata": {},
          "execution_count": 3
        }
      ]
    },
    {
      "cell_type": "code",
      "source": [
        "x0 = np.matrix([[100], [200], [0]])\n",
        "x0"
      ],
      "metadata": {
        "colab": {
          "base_uri": "https://localhost:8080/"
        },
        "id": "2gotnR5X_dQN",
        "outputId": "0e30b7bf-4da9-44df-a084-8230c7c4d707"
      },
      "execution_count": 4,
      "outputs": [
        {
          "output_type": "execute_result",
          "data": {
            "text/plain": [
              "matrix([[100],\n",
              "        [200],\n",
              "        [  0]])"
            ]
          },
          "metadata": {},
          "execution_count": 4
        }
      ]
    },
    {
      "cell_type": "code",
      "source": [
        "x1=M*x0\n",
        "x1"
      ],
      "metadata": {
        "colab": {
          "base_uri": "https://localhost:8080/"
        },
        "id": "bnAHNDH9_ttX",
        "outputId": "e220a275-29b7-4b6d-f455-a96fd257f00f"
      },
      "execution_count": 5,
      "outputs": [
        {
          "output_type": "execute_result",
          "data": {
            "text/plain": [
              "matrix([[150.],\n",
              "        [ 25.],\n",
              "        [150.]])"
            ]
          },
          "metadata": {},
          "execution_count": 5
        }
      ]
    },
    {
      "cell_type": "code",
      "source": [
        "x10min=M**2*x0\n",
        "x10min"
      ],
      "metadata": {
        "colab": {
          "base_uri": "https://localhost:8080/"
        },
        "id": "GJ1OB_4oCPMV",
        "outputId": "10cc5d15-d828-46aa-f980-455a0c0d7111"
      },
      "execution_count": 16,
      "outputs": [
        {
          "output_type": "execute_result",
          "data": {
            "text/plain": [
              "matrix([[117.5],\n",
              "        [ 97.5],\n",
              "        [147.5]])"
            ]
          },
          "metadata": {},
          "execution_count": 16
        }
      ]
    },
    {
      "cell_type": "code",
      "source": [
        "x20min=M**4*x0\n",
        "x20min"
      ],
      "metadata": {
        "colab": {
          "base_uri": "https://localhost:8080/"
        },
        "id": "lkoGVSMyCV91",
        "outputId": "531d47d7-3539-4928-88fe-d736e75a8bdc"
      },
      "execution_count": 17,
      "outputs": [
        {
          "output_type": "execute_result",
          "data": {
            "text/plain": [
              "matrix([[145.9875],\n",
              "        [100.85  ],\n",
              "        [179.2875]])"
            ]
          },
          "metadata": {},
          "execution_count": 17
        }
      ]
    },
    {
      "cell_type": "code",
      "source": [
        "x4hr=M**48*x0\n",
        "x4hr"
      ],
      "metadata": {
        "colab": {
          "base_uri": "https://localhost:8080/"
        },
        "id": "Lcyn11XFCaAB",
        "outputId": "39dcfb2d-e60c-406f-ddb8-4b5d21e63c2c"
      },
      "execution_count": 18,
      "outputs": [
        {
          "output_type": "execute_result",
          "data": {
            "text/plain": [
              "matrix([[5523.38549827],\n",
              "        [3765.17714861],\n",
              "        [6770.21767213]])"
            ]
          },
          "metadata": {},
          "execution_count": 18
        }
      ]
    }
  ]
}