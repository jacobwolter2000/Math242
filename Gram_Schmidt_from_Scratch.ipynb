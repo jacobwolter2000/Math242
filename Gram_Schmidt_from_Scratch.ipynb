{
  "nbformat": 4,
  "nbformat_minor": 0,
  "metadata": {
    "colab": {
      "provenance": [],
      "authorship_tag": "ABX9TyP5mxmKMkFESO03H4mpfVY+",
      "include_colab_link": true
    },
    "kernelspec": {
      "name": "python3",
      "display_name": "Python 3"
    },
    "language_info": {
      "name": "python"
    }
  },
  "cells": [
    {
      "cell_type": "markdown",
      "metadata": {
        "id": "view-in-github",
        "colab_type": "text"
      },
      "source": [
        "<a href=\"https://colab.research.google.com/github/jacobwolter2000/Math242/blob/main/Gram_Schmidt_from_Scratch.ipynb\" target=\"_parent\"><img src=\"https://colab.research.google.com/assets/colab-badge.svg\" alt=\"Open In Colab\"/></a>"
      ]
    },
    {
      "cell_type": "code",
      "execution_count": 1,
      "metadata": {
        "id": "rRfUHhE3Mh7r"
      },
      "outputs": [],
      "source": [
        "import matplotlib.pyplot as plt\n",
        "from sympy import Poly\n",
        "import sympy as sym\n",
        "import numpy as np\n",
        "from numpy import c_\n",
        "\n",
        "# We'll specify that x and t are variables:\n",
        "x, t = sym.symbols('x, t')\n",
        "\n",
        "ll = \"loaded\""
      ]
    },
    {
      "cell_type": "code",
      "source": [
        "# Create a Vector:\n",
        "r1 = np.array([3,0,3,0])\n",
        "r1"
      ],
      "metadata": {
        "colab": {
          "base_uri": "https://localhost:8080/"
        },
        "id": "0Otwg4fcNX-I",
        "outputId": "f00ce6b9-db58-4df6-ca57-d5565a06e950"
      },
      "execution_count": 15,
      "outputs": [
        {
          "output_type": "execute_result",
          "data": {
            "text/plain": [
              "array([3, 0, 3, 0])"
            ]
          },
          "metadata": {},
          "execution_count": 15
        }
      ]
    },
    {
      "cell_type": "code",
      "source": [
        "# Vector Arithmetic: \n",
        "3*r1"
      ],
      "metadata": {
        "colab": {
          "base_uri": "https://localhost:8080/"
        },
        "id": "yH4OYFgFORnS",
        "outputId": "142cdc03-d7eb-4849-d0e6-11eb5b512e04"
      },
      "execution_count": 9,
      "outputs": [
        {
          "output_type": "execute_result",
          "data": {
            "text/plain": [
              "array([9, 0, 9, 0])"
            ]
          },
          "metadata": {},
          "execution_count": 9
        }
      ]
    },
    {
      "cell_type": "code",
      "source": [
        "# Vector Dot Product:\n",
        "r1.dot(r1)"
      ],
      "metadata": {
        "colab": {
          "base_uri": "https://localhost:8080/"
        },
        "id": "uBCp37p3Oszk",
        "outputId": "75c991df-4696-4cbc-f36f-1c3e9f999790"
      },
      "execution_count": 11,
      "outputs": [
        {
          "output_type": "execute_result",
          "data": {
            "text/plain": [
              "18"
            ]
          },
          "metadata": {},
          "execution_count": 11
        }
      ]
    },
    {
      "cell_type": "code",
      "source": [
        "# Square Roots:\n",
        "np.sqrt(9)"
      ],
      "metadata": {
        "colab": {
          "base_uri": "https://localhost:8080/"
        },
        "id": "ZePa7TmyPZK1",
        "outputId": "7a3d5269-687f-4c4d-c770-7d68bb2d6f65"
      },
      "execution_count": 13,
      "outputs": [
        {
          "output_type": "execute_result",
          "data": {
            "text/plain": [
              "3.0"
            ]
          },
          "metadata": {},
          "execution_count": 13
        }
      ]
    },
    {
      "cell_type": "code",
      "source": [
        "# Magnitude of vector: \n",
        "np.sqrt(r1.dot(r1))"
      ],
      "metadata": {
        "colab": {
          "base_uri": "https://localhost:8080/"
        },
        "id": "XJRXQMtDPtHo",
        "outputId": "50a402f6-9897-4380-f9c8-d093e72c703d"
      },
      "execution_count": 16,
      "outputs": [
        {
          "output_type": "execute_result",
          "data": {
            "text/plain": [
              "4.242640687119285"
            ]
          },
          "metadata": {},
          "execution_count": 16
        }
      ]
    },
    {
      "cell_type": "markdown",
      "source": [
        "#Gram-Schmidt Orthonormalization Process\n",
        "\n",
        "Well use the Gram-Schmidt process to find orthogonal vectors in $R^4$"
      ],
      "metadata": {
        "id": "apcFIEIuQJfW"
      }
    },
    {
      "cell_type": "markdown",
      "source": [
        "## Our \"Random\" Vectors:"
      ],
      "metadata": {
        "id": "AFAnh6dVQiHK"
      }
    },
    {
      "cell_type": "code",
      "source": [
        "r1= np.array([3,0,3,0])\n",
        "r2= np.array([3,2,3,3])\n",
        "r3= np.array([-7,-4,-5,-6])\n",
        "r4= np.array([-7,-3,-11,2])"
      ],
      "metadata": {
        "id": "kxogcH1vQI_A"
      },
      "execution_count": 17,
      "outputs": []
    },
    {
      "cell_type": "markdown",
      "source": [
        "## Process $r_1$"
      ],
      "metadata": {
        "id": "n7PAxVQYRMqH"
      }
    },
    {
      "cell_type": "code",
      "source": [
        "# Choose the vector and subtract off the \"Nice\" orthogonal pieces\n",
        "t1=r1\n",
        "#t1\n",
        "#Find the size of t1\n",
        "m= np.sqrt(t1.dot(t1))\n",
        "\n",
        "# Create the nice orthonormal vector u1\n",
        "u1= (1/m)*t1\n",
        "u1\n",
        "\n"
      ],
      "metadata": {
        "colab": {
          "base_uri": "https://localhost:8080/"
        },
        "id": "JZFmxsmGRHLr",
        "outputId": "48ce549f-d87e-4342-8019-fcbc3d942b4e"
      },
      "execution_count": 24,
      "outputs": [
        {
          "output_type": "execute_result",
          "data": {
            "text/plain": [
              "array([0.70710678, 0.        , 0.70710678, 0.        ])"
            ]
          },
          "metadata": {},
          "execution_count": 24
        }
      ]
    },
    {
      "cell_type": "markdown",
      "source": [
        "## Process $r_2$"
      ],
      "metadata": {
        "id": "Y7O9sDu9Sekg"
      }
    },
    {
      "cell_type": "code",
      "source": [
        "# Choose the vector and subtract off the \"Nice\" orthogonal pieces\n",
        "t2=r2 - (u1.dot(r2))*u1\n",
        "#t1\n",
        "#Find the size of t1\n",
        "m= np.sqrt(t2.dot(t2))\n",
        "m\n",
        "# Create the nice orthonormal vector u1\n",
        "u2= (1/m)*t2\n",
        "u2"
      ],
      "metadata": {
        "colab": {
          "base_uri": "https://localhost:8080/"
        },
        "id": "HCP7QJ70SdO2",
        "outputId": "dcabc8e0-a99e-4a18-e440-a3cf45b40b2a"
      },
      "execution_count": 27,
      "outputs": [
        {
          "output_type": "execute_result",
          "data": {
            "text/plain": [
              "array([-1.23168186e-16,  5.54700196e-01, -1.23168186e-16,  8.32050294e-01])"
            ]
          },
          "metadata": {},
          "execution_count": 27
        }
      ]
    },
    {
      "cell_type": "markdown",
      "source": [
        "##Process $r_3$"
      ],
      "metadata": {
        "id": "bEdLvZ-6TjbJ"
      }
    },
    {
      "cell_type": "code",
      "source": [
        "# Choose the vector and subtract off the \"Nice\" orthogonal pieces\n",
        "t3=r3 - (u1.dot(r3))*u1-(u2.dot(r3))*u2\n",
        "#t1\n",
        "#Find the size of t1\n",
        "m= np.sqrt(t3.dot(t3))\n",
        "m\n",
        "# Create the nice orthonormal vector u1\n",
        "u3= (1/m)*t3\n",
        "u3"
      ],
      "metadata": {
        "colab": {
          "base_uri": "https://localhost:8080/"
        },
        "id": "L6G_gssATnwv",
        "outputId": "135f3ebb-e927-49f2-905c-c88f08907244"
      },
      "execution_count": 28,
      "outputs": [
        {
          "output_type": "execute_result",
          "data": {
            "text/plain": [
              "array([-7.07106781e-01, -3.14018492e-16,  7.07106781e-01, -6.28036983e-16])"
            ]
          },
          "metadata": {},
          "execution_count": 28
        }
      ]
    },
    {
      "cell_type": "markdown",
      "source": [
        "## Process $r_4$"
      ],
      "metadata": {
        "id": "gNOhfn7-UOwP"
      }
    },
    {
      "cell_type": "code",
      "source": [
        "# Choose the vector and subtract off the \"Nice\" orthogonal pieces\n",
        "t4=r4 - (u1.dot(r4))*u1-(u2.dot(r4))*u2-(u3.dot(r4))*u3\n",
        "#t1\n",
        "#Find the size of t1\n",
        "m= np.sqrt(t4.dot(t4))\n",
        "m\n",
        "# Create the nice orthonormal vector u1\n",
        "u4= (1/m)*t4\n",
        "u4"
      ],
      "metadata": {
        "colab": {
          "base_uri": "https://localhost:8080/"
        },
        "id": "Geay9vsZUTIv",
        "outputId": "3a1a88f5-39de-4990-fb75-b939ebacf3c6"
      },
      "execution_count": 30,
      "outputs": [
        {
          "output_type": "execute_result",
          "data": {
            "text/plain": [
              "array([ 0.        , -0.83205029,  0.        ,  0.5547002 ])"
            ]
          },
          "metadata": {},
          "execution_count": 30
        }
      ]
    },
    {
      "cell_type": "markdown",
      "source": [
        "## Checks"
      ],
      "metadata": {
        "id": "KY6mOR_VVdA-"
      }
    },
    {
      "cell_type": "code",
      "source": [
        "print(u1.dot(u1))\n",
        "print(u1.dot(u2))\n",
        "print(u1.dot(u3))\n",
        "print(u1.dot(u4))\n",
        "print(u2.dot(u2))\n",
        "print(u2.dot(u3))\n",
        "print(u2.dot(r4))\n",
        "print(u3.dot(u3))\n",
        "print(u3.dot(u4))\n",
        "print(u4.dot(u4))\n"
      ],
      "metadata": {
        "colab": {
          "base_uri": "https://localhost:8080/"
        },
        "id": "YYdU3TnnVcPv",
        "outputId": "6ec5913b-ca87-44dc-acf5-9f22622aaff7"
      },
      "execution_count": 34,
      "outputs": [
        {
          "output_type": "stream",
          "name": "stdout",
          "text": [
            "1.0000000000000002\n",
            "-1.741861189847285e-16\n",
            "0.0\n",
            "0.0\n",
            "1.0\n",
            "-6.967444759389139e-16\n",
            "2.220446049250313e-15\n",
            "0.9999999999999998\n",
            "-8.709305949236341e-17\n",
            "1.0\n"
          ]
        }
      ]
    },
    {
      "cell_type": "code",
      "source": [
        "print(\"r1=\")\n",
        "print()"
      ],
      "metadata": {
        "id": "5i0Yqr0IWPHr"
      },
      "execution_count": null,
      "outputs": []
    }
  ]
}